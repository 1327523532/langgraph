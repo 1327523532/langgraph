{
 "cells": [
  {
   "cell_type": "code",
   "execution_count": 4,
   "id": "40cf47eb-e56b-42be-8a36-ae7870bbda91",
   "metadata": {},
   "outputs": [],
   "source": [
    "from operator import itemgetter\n",
    "\n",
    "from langchain.chat_models.openai import ChatOpenAI\n",
    "from langchain.prompts import SystemMessagePromptTemplate, ChatPromptTemplate\n",
    "from langchain.schema.output_parser import StrOutputParser\n",
    "from langchain.runnables.openai_functions import OpenAIFunctionsRouter\n",
    "\n",
    "from permchain.connection_inmemory import InMemoryPubSubConnection\n",
    "from permchain.pubsub import PubSub\n",
    "from permchain.topic import Topic"
   ]
  },
  {
   "cell_type": "code",
   "execution_count": 11,
   "id": "c13fb76c-b88a-4561-ab32-f21a6aec1fae",
   "metadata": {},
   "outputs": [],
   "source": [
    "prompt = ChatPromptTemplate.from_messages([\n",
    "    (\"system\", \"You are an expert coder who only writes python code. For a given user question, you return a python script - and only a python script attempting to implement their given ask. This script should be enclosed in ```python\\n...\\n``` and you should not have any text before or after that script snippet.\"),\n",
    "    (\"human\", \"{task}\")\n",
    "])\n"
   ]
  },
  {
   "cell_type": "code",
   "execution_count": 12,
   "id": "60ce3a2e-261e-4e8f-9077-06e622362ed9",
   "metadata": {},
   "outputs": [],
   "source": [
    "chain = prompt | ChatOpenAI(temperature=0) | StrOutputParser()"
   ]
  },
  {
   "cell_type": "code",
   "execution_count": 27,
   "id": "4eb91cfd-34d2-4976-8770-dfabb03a5db4",
   "metadata": {},
   "outputs": [],
   "source": [
    "task = \"write a script to scrape the top 10 titles of the top hacker news posts\""
   ]
  },
  {
   "cell_type": "code",
   "execution_count": 28,
   "id": "817032db-b4dd-4b58-a3eb-57f9d3457f5a",
   "metadata": {},
   "outputs": [],
   "source": [
    "result = chain.invoke({\"task\": task})"
   ]
  },
  {
   "cell_type": "code",
   "execution_count": 52,
   "id": "410e9341-4040-46fd-b65a-0dfbccf17d9d",
   "metadata": {},
   "outputs": [],
   "source": [
    "functions = [\n",
    "    {\n",
    "      \"name\": \"finish\",\n",
    "      \"description\": \"Call this if the code is good as is\",\n",
    "      \"parameters\": {\n",
    "        \"type\": \"object\",\n",
    "        \"properties\": {\n",
    "          \"finished\": {\n",
    "            \"const\": \"true\",\n",
    "            \"description\": \"The city and state, e.g. San Francisco, CA\"\n",
    "          },\n",
    "        },\n",
    "        \"required\": [\"finished\"]\n",
    "      }\n",
    "    },\n",
    "    {\n",
    "      \"name\": \"edit\",\n",
    "      \"description\": \"Call this if the output does not look as expected\",\n",
    "      \"parameters\": {\n",
    "        \"type\": \"object\",\n",
    "        \"properties\": {\n",
    "          \"comment\": {\n",
    "            \"type\": \"string\",\n",
    "            \"description\": \"A comment on why the output does not look as expected and suggestion on how to fix it\"\n",
    "          },\n",
    "        },\n",
    "        \"required\": [\"comment\"]\n",
    "      }\n",
    "    },\n",
    "    {\n",
    "      \"name\": \"help\",\n",
    "      \"description\": \"Call this if the output does not look as expected and you're not sure what to do next\",\n",
    "      \"parameters\": {\n",
    "        \"type\": \"object\",\n",
    "        \"properties\": {\n",
    "          \"question\": {\n",
    "            \"type\": \"string\",\n",
    "            \"description\": \"A question that the user will answer to help you debug\"\n",
    "          },\n",
    "        },\n",
    "        \"required\": [\"question\"]\n",
    "      }\n",
    "    }\n",
    "  ]"
   ]
  },
  {
   "cell_type": "code",
   "execution_count": 53,
   "id": "b205ff40-38fb-48cb-8fad-4e4ed417c7a7",
   "metadata": {},
   "outputs": [],
   "source": [
    "prompt = ChatPromptTemplate.from_messages([\n",
    "    (\"system\", \"You are reviewing some written code a human as written. After they wrote the code, they then ran it. Based on the output of the program, you should either decide to finish (if the code is good) or write a revision.\"),\n",
    "    (\"human\", \"This is my task: {task}\"),\n",
    "    (\"human\", \"This is my code:\\n\\n{code}\"),\n",
    "    (\"human\", \"This is my output:\\n\\n<output>{output}</output>\\n\\nDoes this output look as you would expect? If so we can finish. Otherwise, write a new code snippet that produces better results. If you do not finish, you MUST write a replacement code snippet.\")\n",
    "])"
   ]
  },
  {
   "cell_type": "code",
   "execution_count": 54,
   "id": "c26b1749-a844-439b-9a64-9e3cbd5d8b8c",
   "metadata": {},
   "outputs": [],
   "source": [
    "critique_chain = prompt | ChatOpenAI(temperature=0, model=\"gpt-4\").bind(functions=functions)"
   ]
  },
  {
   "cell_type": "code",
   "execution_count": 55,
   "id": "aeb90a27-2334-42f2-af28-5250fabbe534",
   "metadata": {},
   "outputs": [],
   "source": [
    "result1 = critique_chain.invoke({\n",
    "    \"task\": task,\n",
    "    \"code\": result,\n",
    "    \"output\": \"\",\n",
    "})"
   ]
  },
  {
   "cell_type": "code",
   "execution_count": 56,
   "id": "09f53018-0203-42e6-b1e4-bc4065025ad7",
   "metadata": {},
   "outputs": [
    {
     "data": {
      "text/plain": [
       "AIMessage(content='', additional_kwargs={'function_call': {'name': 'edit', 'arguments': '{\\n\"comment\": \"The output is empty. It seems like the code didn\\'t run correctly. The code itself looks fine, it might be an issue with the website or the connection. I suggest to add some error handling to the code to catch potential issues.\"\\n}'}}, example=False)"
      ]
     },
     "execution_count": 56,
     "metadata": {},
     "output_type": "execute_result"
    }
   ],
   "source": [
    "result1"
   ]
  },
  {
   "cell_type": "code",
   "execution_count": 57,
   "id": "171883f4-2673-4497-afab-2865a17b5840",
   "metadata": {},
   "outputs": [],
   "source": [
    "prompt = ChatPromptTemplate.from_messages([\n",
    "    (\"system\", \"You are revising some written code a human has written. After they wrote the code, they then ran it. Based on the output of the program, they then suggested some edits.\"),\n",
    "    (\"human\", \"This is my task: {task}\"),\n",
    "    (\"human\", \"This is my code:\\n\\n{code}\"),\n",
    "    (\"human\", \"This is my output:\\n\\n<output>{output}</output>\"),\n",
    "    (\"human\", \"These are my suggested edits: {edit}\"),\n",
    "    (\"human\", \"Please write a new code snippet taking into account the suggested edits\"),\n",
    "])"
   ]
  },
  {
   "cell_type": "code",
   "execution_count": 58,
   "id": "4dd8f1df-598d-427f-b681-3e1ef92f003e",
   "metadata": {},
   "outputs": [],
   "source": [
    "revise_chain = prompt | ChatOpenAI(temperature=0, model=\"gpt-4\").bind(functions=functions)"
   ]
  },
  {
   "cell_type": "code",
   "execution_count": 59,
   "id": "b4ae4f32-2287-48b1-ab70-57bfa0fc410e",
   "metadata": {},
   "outputs": [],
   "source": [
    "result2 = revise_chain.invoke({\n",
    "    \"task\": task,\n",
    "    \"code\": result,\n",
    "    \"output\": \"\",\n",
    "    \"edit\": result1.additional_kwargs['function_call']['arguments']\n",
    "})"
   ]
  },
  {
   "cell_type": "code",
   "execution_count": 63,
   "id": "182e67a8-a4a4-4ee8-9f3f-b13c0d1648dd",
   "metadata": {},
   "outputs": [
    {
     "name": "stdout",
     "output_type": "stream",
     "text": [
      "Here is the revised code with added error handling:\n",
      "\n",
      "```python\n",
      "import requests\n",
      "from bs4 import BeautifulSoup\n",
      "\n",
      "try:\n",
      "    # Send a GET request to the Hacker News website\n",
      "    response = requests.get(\"https://news.ycombinator.com/\")\n",
      "\n",
      "    # Check if the request was successful\n",
      "    if response.status_code != 200:\n",
      "        print(f\"Failed to get page with status code: {response.status_code}\")\n",
      "        exit()\n",
      "\n",
      "    # Parse the HTML content of the response\n",
      "    soup = BeautifulSoup(response.content, \"html.parser\")\n",
      "\n",
      "    # Find all the post titles on the page\n",
      "    post_titles = soup.find_all(\"a\", class_=\"storylink\")\n",
      "\n",
      "    # Check if any titles were found\n",
      "    if not post_titles:\n",
      "        print(\"No post titles found\")\n",
      "        exit()\n",
      "\n",
      "    # Print the top 10 titles\n",
      "    for i, title in enumerate(post_titles[:10]):\n",
      "        print(f\"{i+1}. {title.text}\")\n",
      "\n",
      "except requests.exceptions.RequestException as e:\n",
      "    # If there was a network problem (e.g. DNS resolution, refused connection, etc), print the error\n",
      "    print(f\"An error occurred: {e}\")\n",
      "```\n",
      "```\n"
     ]
    }
   ],
   "source": [
    "print(result2.content)"
   ]
  },
  {
   "cell_type": "code",
   "execution_count": 64,
   "id": "144e0215-9b8d-4775-a16f-513be89132a0",
   "metadata": {},
   "outputs": [
    {
     "name": "stdout",
     "output_type": "stream",
     "text": [
      "No post titles found\n"
     ]
    }
   ],
   "source": [
    "import requests\n",
    "from bs4 import BeautifulSoup\n",
    "\n",
    "try:\n",
    "    # Send a GET request to the Hacker News website\n",
    "    response = requests.get(\"https://news.ycombinator.com/\")\n",
    "\n",
    "    # Check if the request was successful\n",
    "    if response.status_code != 200:\n",
    "        print(f\"Failed to get page with status code: {response.status_code}\")\n",
    "        exit()\n",
    "\n",
    "    # Parse the HTML content of the response\n",
    "    soup = BeautifulSoup(response.content, \"html.parser\")\n",
    "\n",
    "    # Find all the post titles on the page\n",
    "    post_titles = soup.find_all(\"a\", class_=\"storylink\")\n",
    "\n",
    "    # Check if any titles were found\n",
    "    if not post_titles:\n",
    "        print(\"No post titles found\")\n",
    "        exit()\n",
    "\n",
    "    # Print the top 10 titles\n",
    "    for i, title in enumerate(post_titles[:10]):\n",
    "        print(f\"{i+1}. {title.text}\")\n",
    "\n",
    "except requests.exceptions.RequestException as e:\n",
    "    # If there was a network problem (e.g. DNS resolution, refused connection, etc), print the error\n",
    "    print(f\"An error occurred: {e}\")"
   ]
  },
  {
   "cell_type": "code",
   "execution_count": 2,
   "id": "9fd4efc4-1c3a-47b5-b9e2-d979f9492e33",
   "metadata": {},
   "outputs": [
    {
     "name": "stdout",
     "output_type": "stream",
     "text": [
      "1. Strangest Research Vessel Heads for Scrapyard After 60 Years (maritime-executive.com)\n",
      "2. CNET is deleting old articles to try to improve its Google Search ranking (theverge.com)\n",
      "3. Temptations of an open-source Chrome extension developer (github.com/extesy)\n",
      "4. Justapedia, a Wikipedia alternative and aspiring replacement, has gone public (justapedia.org)\n"
     ]
    }
   ],
   "source": [
    "import requests\n",
    "from bs4 import BeautifulSoup\n",
    "\n",
    "try:\n",
    "    # Send a GET request to the Hacker News website\n",
    "    response = requests.get(\"https://news.ycombinator.com/\")\n",
    "\n",
    "    # Check if the request was successful\n",
    "    if response.status_code != 200:\n",
    "        print(f\"Failed to get page with status code: {response.status_code}\")\n",
    "        exit()\n",
    "\n",
    "    # Parse the HTML content of the response\n",
    "    soup = BeautifulSoup(response.content, \"html.parser\")\n",
    "\n",
    "    # Find all the post titles on the page\n",
    "    post_titles = soup.select(\".athing .titleline\")\n",
    "\n",
    "    # Check if any titles were found\n",
    "    if not post_titles:\n",
    "        print(\"No post titles found\")\n",
    "        exit()\n",
    "\n",
    "    # Print the top 4 titles\n",
    "    for i, title in enumerate(post_titles[:4]):\n",
    "        print(f\"{i+1}. {title.text}\")\n",
    "\n",
    "except requests.exceptions.RequestException as e:\n",
    "    # If there was a network problem (e.g. DNS resolution, refused connection, etc), print the error\n",
    "    print(f\"An error occurred: {e}\")"
   ]
  },
  {
   "cell_type": "code",
   "execution_count": 18,
   "id": "21ebb82a-148f-480e-8186-8e8ec6a354b5",
   "metadata": {},
   "outputs": [
    {
     "data": {
      "text/plain": [
       "[]"
      ]
     },
     "execution_count": 18,
     "metadata": {},
     "output_type": "execute_result"
    }
   ],
   "source": [
    "post_titles"
   ]
  },
  {
   "cell_type": "code",
   "execution_count": 20,
   "id": "41a4d199-4fa8-4916-94e5-51e5701eb698",
   "metadata": {},
   "outputs": [],
   "source": [
    "import requests\n",
    "from bs4 import BeautifulSoup\n",
    "\n",
    "def get_top_hn_titles():\n",
    "    url = \"https://news.ycombinator.com/\"\n",
    "    response = requests.get(url)\n",
    "    soup = BeautifulSoup(response.content, 'html.parser')\n",
    "    \n",
    "    # The titles are within 'a' tags with class 'storylink'\n",
    "    titles = soup.find_all('a', class_='storylink')\n",
    "    \n",
    "    top_titles = [title.text for title in titles[:10]]\n",
    "    return top_titles\n",
    "\n",
    "# Print top 10 titles\n",
    "for idx, title in enumerate(get_top_hn_titles(), 1):\n",
    "    print(f\"{idx}. {title}\")\n",
    "\n"
   ]
  },
  {
   "cell_type": "code",
   "execution_count": null,
   "id": "da924fdf-9446-4f28-8a2a-b46dabeeefdf",
   "metadata": {},
   "outputs": [],
   "source": []
  }
 ],
 "metadata": {
  "kernelspec": {
   "display_name": "Python 3 (ipykernel)",
   "language": "python",
   "name": "python3"
  },
  "language_info": {
   "codemirror_mode": {
    "name": "ipython",
    "version": 3
   },
   "file_extension": ".py",
   "mimetype": "text/x-python",
   "name": "python",
   "nbconvert_exporter": "python",
   "pygments_lexer": "ipython3",
   "version": "3.10.1"
  }
 },
 "nbformat": 4,
 "nbformat_minor": 5
}
